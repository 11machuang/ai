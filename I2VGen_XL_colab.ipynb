{
  "cells": [
    {
      "cell_type": "markdown",
      "metadata": {
        "id": "view-in-github"
      },
      "source": [
        "[![Open In Colab](https://colab.research.google.com/assets/colab-badge.svg)](https://colab.research.google.com/github/camenduru/I2VGen-XL-colab/blob/main/I2VGen_XL_colab.ipynb)"
      ]
    },
    {
      "cell_type": "code",
      "execution_count": null,
      "metadata": {},
      "outputs": [],
      "source": [
        "%cd /content\n",
        "!pip install -q xformers==0.0.20 triton==2.0.0 gradio torchsde open_clip_torch einops rotary-embedding-torch fairscale modelscope\n",
        "\n",
        "import gradio as gr\n",
        "from modelscope.pipelines import pipeline\n",
        "from modelscope.outputs import OutputKeys\n",
        "\n",
        "image_to_video_pipe = pipeline(task=\"image-to-video\", model='damo/Image-to-Video', model_revision='v1.1.0', device='cuda:0')\n",
        "video_to_video_pipe = pipeline(task=\"video-to-video\", model='damo/Video-to-Video', model_revision='v1.1.0', device='cuda:0')\n",
        "\n",
        "def upload_file(file):\n",
        "    return file.name\n",
        "\n",
        "def image_to_video(image_in):\n",
        "    if image_in is None:\n",
        "        raise gr.Error('Please upload a picture!')\n",
        "    print(image_in)\n",
        "    output_video_path = image_to_video_pipe(image_in, output_video='./i2v_output.mp4')[OutputKeys.OUTPUT_VIDEO]\n",
        "    print(output_video_path)\n",
        "    return output_video_path\n",
        "\n",
        "\n",
        "def video_to_video(video_in, text_in):\n",
        "    if video_in is None:\n",
        "        raise gr.Error('Please complete the first step first.')\n",
        "    if text_in is None:\n",
        "        raise gr.Error('Please enter a text description.')\n",
        "    p_input = {\n",
        "            'video_path': video_in,\n",
        "            'text': text_in\n",
        "        }\n",
        "    output_video_path = video_to_video_pipe(p_input, output_video='./v2v_output.mp4')[OutputKeys.OUTPUT_VIDEO]\n",
        "    print(output_video_path)\n",
        "    return output_video_path\n",
        "\n",
        "    with gr.Blocks() as demo:\n",
        "    gr.Markdown(\n",
        "        \"\"\"<center><font size=7>I2VGen-XL Demo</center>\n",
        "        <center><font size=3>I2VGen-XL can generate videos that closely resemble the desired content based on user-input static images and text. The generated videos are characterized by high definition (1280 * 720), widescreen (16:9), temporal coherence, and good visual quality.</center>\"\"\"\n",
        "    )\n",
        "    with gr.Box():\n",
        "        gr.Markdown(\n",
        "        \"\"\"<left><font size=3>Step 1: Select the appropriate image for upload, then click 'Generate Video.' Once you are satisfied with the video, proceed to the next step.</left>\"\"\"\n",
        "        )\n",
        "        with gr.Row():\n",
        "            with gr.Column():\n",
        "                image_in = gr.Image(label=\"Image input\", type=\"filepath\", interactive=False, elem_id=\"image-in\", height=300)\n",
        "                with gr.Row():\n",
        "                    upload_image = gr.UploadButton(\"Upload Image\", file_types=[\"image\"], file_count=\"single\")\n",
        "                    image_submit = gr.Button(\"Generate Video 🎬\")\n",
        "            with gr.Column():\n",
        "                video_out_1 = gr.Video(label='The generated video.', elem_id='video-out_1', interactive=False, height=300)\n",
        "    with gr.Box():\n",
        "        gr.Markdown(\n",
        "        \"\"\"<left><font size=3>Step 2: Provide an additional English textual description for the video content, then click 'Generate High-Resolution Video.' Video generation will take approximately 2 minutes.</left>\"\"\"\n",
        "        )\n",
        "        with gr.Row():\n",
        "            with gr.Column():\n",
        "                text_in = gr.Textbox(label=\"Text Description\", lines=2, elem_id=\"text-in\")\n",
        "                video_submit = gr.Button(\"Generate High-Resolution Video 🎥\")\n",
        "            with gr.Column():\n",
        "                video_out_2 = gr.Video(label='The generated video.', elem_id='video-out_2', height=300)\n",
        "    gr.Markdown(\"<left><font size=2>Note: If the generated video cannot be played, please try upgrading your browser or use Google Chrome browser. </left>\")\n",
        "\n",
        "\n",
        "    upload_image.upload(upload_file, upload_image, image_in)\n",
        "    image_submit.click(fn=image_to_video, inputs=[image_in], outputs=[video_out_1])\n",
        "    video_submit.click(fn=video_to_video, inputs=[video_out_1, text_in], outputs=[video_out_2])\n",
        "\n",
        "demo.queue(max_size=10).launch(share=True)"
      ]
    }
  ],
  "metadata": {
    "accelerator": "GPU",
    "colab": {
      "gpuType": "T4",
      "provenance": []
    },
    "kernelspec": {
      "display_name": "Python 3",
      "name": "python3"
    },
    "language_info": {
      "name": "python"
    }
  },
  "nbformat": 4,
  "nbformat_minor": 0
}
